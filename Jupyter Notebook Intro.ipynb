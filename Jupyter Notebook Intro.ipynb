{
 "cells": [
  {
   "cell_type": "code",
   "execution_count": null,
   "id": "stunning-singing",
   "metadata": {},
   "outputs": [],
   "source": [
    "print(\"Hello, world!\")"
   ]
  },
  {
   "cell_type": "markdown",
   "id": "christian-liechtenstein",
   "metadata": {},
   "source": [
    "# Jupyter Notebook Introduction"
   ]
  },
  {
   "cell_type": "markdown",
   "id": "executive-presentation",
   "metadata": {},
   "source": [
    "Jupyter Notebooks are an IDE that utilize individual input cells to run code. Each individual cell can be run and modified independent of one another which allows for in-line debugging in the middle of a \"running\" script.\n",
    "\n",
    "The input cells can also be formatted using a markdown language to add headers or other rich text formatting to the notebook. For example:"
   ]
  },
  {
   "cell_type": "raw",
   "id": "defined-fancy",
   "metadata": {},
   "source": [
    "# Title"
   ]
  },
  {
   "cell_type": "markdown",
   "id": "amended-practitioner",
   "metadata": {},
   "source": [
    "# Title"
   ]
  },
  {
   "cell_type": "raw",
   "id": "monetary-bumper",
   "metadata": {},
   "source": [
    "## Major Headings"
   ]
  },
  {
   "cell_type": "markdown",
   "id": "contrary-iraqi",
   "metadata": {},
   "source": [
    "## Major Headings"
   ]
  },
  {
   "cell_type": "raw",
   "id": "stable-firewall",
   "metadata": {},
   "source": [
    "### Subheadings"
   ]
  },
  {
   "cell_type": "markdown",
   "id": "bibliographic-depression",
   "metadata": {},
   "source": [
    "### Subheadings"
   ]
  },
  {
   "cell_type": "raw",
   "id": "natural-horse",
   "metadata": {},
   "source": [
    "__Bold Text Double Underscore__ or **Bold Text Double Asterisks**"
   ]
  },
  {
   "cell_type": "markdown",
   "id": "nuclear-simpson",
   "metadata": {},
   "source": [
    "__Bold Text Double Underscore__ or **Bold Text Double Asterisks**"
   ]
  },
  {
   "cell_type": "raw",
   "id": "induced-signal",
   "metadata": {},
   "source": [
    "_Italic Text Single Underscore_ or *Italic Text Single Asterisk*"
   ]
  },
  {
   "cell_type": "markdown",
   "id": "timely-animation",
   "metadata": {},
   "source": [
    "_Italic Text Single Underscore_ or *Italic Text Single Asterisk*"
   ]
  },
  {
   "cell_type": "markdown",
   "id": "transparent-diameter",
   "metadata": {},
   "source": [
    "More information on the different kinds of markdown code can be found here: https://thecodingbot.com/markdown-in-jupyter-ipython-notebook-cheatsheet/"
   ]
  },
  {
   "cell_type": "markdown",
   "id": "presidential-header",
   "metadata": {},
   "source": [
    "# Code Writing and Execution"
   ]
  },
  {
   "cell_type": "markdown",
   "id": "computational-simpson",
   "metadata": {},
   "source": [
    "Writing code into cells is relatively simple. You can create new cells either by pressing Shift+Enter or by clicking the + button at the top of the screen below the menu bar. The new cell will be created and will default to the \"code\" cell type, which can be changed in the drop-down menu near the top of the screen. We'll create a little bit of code below for practice to see how Jupyter handles it."
   ]
  },
  {
   "cell_type": "markdown",
   "id": "hundred-kidney",
   "metadata": {},
   "source": [
    "### Typing Code"
   ]
  },
  {
   "cell_type": "markdown",
   "id": "super-delivery",
   "metadata": {},
   "source": [
    "We'll begin by creating a few variables and then we'll use those variables throughout the rest of the exercises. Run the following cell of code to set all of our variables. **Note**: if you have problems with the following examples it may be necessary to re-run this block of code, especially if the kernel needs to be restarted."
   ]
  },
  {
   "cell_type": "code",
   "execution_count": null,
   "id": "optional-webcam",
   "metadata": {},
   "outputs": [],
   "source": [
    "int_variable = 12\n",
    "double_variable = 2.5\n",
    "string_variable = \"Hello\"\n",
    "list_variable = [1,2,3]\n",
    "bool_variable = True"
   ]
  },
  {
   "cell_type": "markdown",
   "id": "threatened-islam",
   "metadata": {},
   "source": [
    "Now that we have a number of variables created we can begin to write code to manipulate those variables. Select the following cell and select the run cell button above (the \"Play\" icon labelled Run)."
   ]
  },
  {
   "cell_type": "code",
   "execution_count": null,
   "id": "verbal-platinum",
   "metadata": {
    "scrolled": false
   },
   "outputs": [],
   "source": [
    "print(string_variable)\n",
    "string_variable"
   ]
  },
  {
   "cell_type": "markdown",
   "id": "other-seventh",
   "metadata": {},
   "source": [
    "When you run this code you'll see two different \"outputs\". One is the terminal output that you would get when you use the `print` function on the string, and the other is an output declaring the value in the saved variable `string_variable`. In the following cell use the provided variable to multiply the `int_variable` by the `double_variable`."
   ]
  },
  {
   "cell_type": "code",
   "execution_count": null,
   "id": "average-summer",
   "metadata": {},
   "outputs": [],
   "source": [
    "mult_variable = "
   ]
  },
  {
   "cell_type": "markdown",
   "id": "alike-holmes",
   "metadata": {},
   "source": [
    "When you run that cell you'll notice that there is no output to the cell. In the next cell do the same thing as previously, multiply `int_variable` and `double_variable` together and then select run."
   ]
  },
  {
   "cell_type": "code",
   "execution_count": null,
   "id": "brief-diversity",
   "metadata": {},
   "outputs": [],
   "source": []
  },
  {
   "cell_type": "markdown",
   "id": "first-worker",
   "metadata": {},
   "source": [
    "This time you can see that there's an immediate output from the cell telling you the result of the operation. **Note**: keep in mind that this value is not stored however, the most correct way to perform this function and store it for later use is to store it as a variable, or to `return` the value as part of a defined function. Run the next line of code to see that the `mult_variable` that we defined previously is persistently stored."
   ]
  },
  {
   "cell_type": "code",
   "execution_count": null,
   "id": "fifth-montana",
   "metadata": {},
   "outputs": [],
   "source": [
    "print(mult_variable)"
   ]
  },
  {
   "cell_type": "markdown",
   "id": "sacred-harmony",
   "metadata": {},
   "source": [
    "### Debugging"
   ]
  },
  {
   "cell_type": "markdown",
   "id": "governing-brunswick",
   "metadata": {},
   "source": [
    "The best way to think of these cells and the way they're being output to the notebook is to imagine that the script and the terminal window have been combined. Whereas a script would normally execute entirely and output to a separate window we can see what's going to the terminal at what point within our code which can help us identify where the code is having issues. For this to work well it is important to split the code across multiple cells, as each cell is run as its own discrete piece of the whole. For example run the following cell:"
   ]
  },
  {
   "cell_type": "code",
   "execution_count": null,
   "id": "explicit-maker",
   "metadata": {},
   "outputs": [],
   "source": [
    "test_variable = double_variable * string_variable\n",
    "print(double_variable.type\")\n",
    "n = 3 * 4 / 8 - 20\n",
    "print(n)\n",
    "int_variable % double_variable\n",
    "print(test_variable, n)"
   ]
  },
  {
   "cell_type": "markdown",
   "id": "settled-funeral",
   "metadata": {},
   "source": [
    "You'll see that an error results and gives you the usual traceback information for the error that you would see in any other python script. However the script immediately stops at the error and will not run any more code. Below is the exact same code but each piece is in a separate cell, go ahead and run each of them in order."
   ]
  },
  {
   "cell_type": "code",
   "execution_count": null,
   "id": "alien-stocks",
   "metadata": {},
   "outputs": [],
   "source": [
    "test_variable = double_variable * string_variable"
   ]
  },
  {
   "cell_type": "code",
   "execution_count": null,
   "id": "thousand-brighton",
   "metadata": {},
   "outputs": [],
   "source": [
    "print(double_variable.type\")"
   ]
  },
  {
   "cell_type": "code",
   "execution_count": null,
   "id": "protecting-ability",
   "metadata": {},
   "outputs": [],
   "source": [
    "n = 3 * 4 / 8 - 20"
   ]
  },
  {
   "cell_type": "code",
   "execution_count": null,
   "id": "aboriginal-refrigerator",
   "metadata": {},
   "outputs": [],
   "source": [
    "print(n)"
   ]
  },
  {
   "cell_type": "code",
   "execution_count": null,
   "id": "sunset-conjunction",
   "metadata": {},
   "outputs": [],
   "source": [
    "int_variable % double_variable"
   ]
  },
  {
   "cell_type": "code",
   "execution_count": null,
   "id": "empty-cloud",
   "metadata": {},
   "outputs": [],
   "source": [
    "print(test_variable, n)"
   ]
  },
  {
   "cell_type": "markdown",
   "id": "useful-plastic",
   "metadata": {},
   "source": [
    "Now we see there are more than just 1 error in our code, and the parts that don't have any errors still execute as normal. This allows us to more easily see the errors in our code in a much more granular way."
   ]
  },
  {
   "cell_type": "code",
   "execution_count": null,
   "id": "incorrect-encoding",
   "metadata": {},
   "outputs": [],
   "source": []
  }
 ],
 "metadata": {
  "kernelspec": {
   "display_name": "Python 3",
   "language": "python",
   "name": "python3"
  },
  "language_info": {
   "codemirror_mode": {
    "name": "ipython",
    "version": 3
   },
   "file_extension": ".py",
   "mimetype": "text/x-python",
   "name": "python",
   "nbconvert_exporter": "python",
   "pygments_lexer": "ipython3",
   "version": "3.7.10"
  }
 },
 "nbformat": 4,
 "nbformat_minor": 5
}
